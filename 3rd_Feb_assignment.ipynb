{
 "cells": [
  {
   "cell_type": "code",
   "execution_count": 53,
   "id": "cdac1d82-db7b-4232-b55e-e9bf33f5c6a4",
   "metadata": {},
   "outputs": [
    {
     "name": "stdin",
     "output_type": "stream",
     "text": [
      "Enter the number 12\n"
     ]
    }
   ],
   "source": [
    "# Question no 1\n",
    "# Def keyword is used as a function\n",
    "#n = int(input(\"Enter the number\"))\n",
    "n = int(input(\"Enter the number\"))\n",
    "l = []\n",
    "def test(n):\n",
    "    for i in range(n):\n",
    "        if i%2 == 0:\n",
    "            \n",
    "            l.append(i-1)\n",
    "    \n",
    "    \n",
    "            \n",
    "        "
   ]
  },
  {
   "cell_type": "code",
   "execution_count": 51,
   "id": "6edd7a2c-3d2c-43d2-9f8a-0655f70c4a1b",
   "metadata": {},
   "outputs": [
    {
     "data": {
      "text/plain": [
       "[]"
      ]
     },
     "execution_count": 51,
     "metadata": {},
     "output_type": "execute_result"
    }
   ],
   "source": [
    "l\n"
   ]
  },
  {
   "cell_type": "code",
   "execution_count": 3,
   "id": "2bd903d4-65d0-4589-8404-823f45a88568",
   "metadata": {},
   "outputs": [],
   "source": [
    "# Question number 2\n",
    "# *krgs is used for tuple and **kwargs is used for dictionary\n",
    "def test(*krgs):\n",
    "    return krgs"
   ]
  },
  {
   "cell_type": "code",
   "execution_count": 4,
   "id": "b5cb9dbd-52b3-4be3-991f-cc349f767a8c",
   "metadata": {},
   "outputs": [
    {
     "data": {
      "text/plain": [
       "(2, 3, 4, 5)"
      ]
     },
     "execution_count": 4,
     "metadata": {},
     "output_type": "execute_result"
    }
   ],
   "source": [
    "test(2,3,4,5)"
   ]
  },
  {
   "cell_type": "code",
   "execution_count": 6,
   "id": "7472205f-4012-4e09-a832-6bee247a29d8",
   "metadata": {},
   "outputs": [],
   "source": [
    "def test1(**kwargs):\n",
    "    return kwargs\n"
   ]
  },
  {
   "cell_type": "code",
   "execution_count": 7,
   "id": "19dc66cc-b8ae-4e01-80d2-4fae31c42348",
   "metadata": {},
   "outputs": [
    {
     "data": {
      "text/plain": [
       "{'a': 23, 'b': 34}"
      ]
     },
     "execution_count": 7,
     "metadata": {},
     "output_type": "execute_result"
    }
   ],
   "source": [
    "test1(a = 23, b = 34)"
   ]
  },
  {
   "cell_type": "code",
   "execution_count": 8,
   "id": "30278ec6-dd13-400f-8b44-26ba3aaaf38b",
   "metadata": {},
   "outputs": [],
   "source": [
    "# Question number 3\n",
    "# allows you to iterate over the collection of data such as list tuples etc"
   ]
  },
  {
   "cell_type": "code",
   "execution_count": 11,
   "id": "bed0b248-82fd-4ca5-b261-0cb0a20bd77f",
   "metadata": {},
   "outputs": [],
   "source": [
    "l = [2,4,6,8,10,12,14,16,18]\n",
    "s = iter(l)"
   ]
  },
  {
   "cell_type": "code",
   "execution_count": 12,
   "id": "277f8a3e-9368-4cb0-b4c8-bf022b9d68f3",
   "metadata": {},
   "outputs": [
    {
     "data": {
      "text/plain": [
       "2"
      ]
     },
     "execution_count": 12,
     "metadata": {},
     "output_type": "execute_result"
    }
   ],
   "source": [
    "next(s)"
   ]
  },
  {
   "cell_type": "code",
   "execution_count": 13,
   "id": "f120a673-c980-4c10-9f8b-0fcf7f4b9679",
   "metadata": {},
   "outputs": [
    {
     "data": {
      "text/plain": [
       "4"
      ]
     },
     "execution_count": 13,
     "metadata": {},
     "output_type": "execute_result"
    }
   ],
   "source": [
    "next(s)"
   ]
  },
  {
   "cell_type": "code",
   "execution_count": 14,
   "id": "2a8ad126-50eb-4b3d-bc6a-685d76f8df43",
   "metadata": {},
   "outputs": [
    {
     "data": {
      "text/plain": [
       "6"
      ]
     },
     "execution_count": 14,
     "metadata": {},
     "output_type": "execute_result"
    }
   ],
   "source": [
    "next(s)"
   ]
  },
  {
   "cell_type": "code",
   "execution_count": 15,
   "id": "78b88fd5-dec5-4b63-9928-9ca300c69f04",
   "metadata": {},
   "outputs": [
    {
     "data": {
      "text/plain": [
       "8"
      ]
     },
     "execution_count": 15,
     "metadata": {},
     "output_type": "execute_result"
    }
   ],
   "source": [
    "next(s)"
   ]
  },
  {
   "cell_type": "code",
   "execution_count": 16,
   "id": "166511b2-9c4c-4b7a-be89-c249bd57daee",
   "metadata": {},
   "outputs": [
    {
     "data": {
      "text/plain": [
       "10"
      ]
     },
     "execution_count": 16,
     "metadata": {},
     "output_type": "execute_result"
    }
   ],
   "source": [
    "next(s)"
   ]
  },
  {
   "cell_type": "code",
   "execution_count": 17,
   "id": "76282094-76ba-433e-bca9-1621fabd8acc",
   "metadata": {},
   "outputs": [],
   "source": [
    "# Question number 4\n",
    "# Generator function is used to generate a value again \n",
    "# Yield keyword is used to return or print a value"
   ]
  },
  {
   "cell_type": "code",
   "execution_count": 25,
   "id": "5359c90e-6de9-486c-9e93-37958a184430",
   "metadata": {},
   "outputs": [],
   "source": [
    "count = 1\n",
    "def test(n):\n",
    "    count = 1\n",
    "    while count < n :\n",
    "        \n",
    "    \n",
    "        yield count\n",
    "        count = count + 1\n",
    "        "
   ]
  },
  {
   "cell_type": "code",
   "execution_count": 26,
   "id": "d1649359-142c-4a2b-bd56-7dbfc10e0d4b",
   "metadata": {},
   "outputs": [],
   "source": [
    " d = test(12)\n",
    "    "
   ]
  },
  {
   "cell_type": "code",
   "execution_count": 27,
   "id": "7f8e53a0-9b2f-4a00-bc5f-5984b9f16cd8",
   "metadata": {},
   "outputs": [
    {
     "name": "stdout",
     "output_type": "stream",
     "text": [
      "1\n",
      "2\n",
      "3\n",
      "4\n",
      "5\n",
      "6\n",
      "7\n",
      "8\n",
      "9\n",
      "10\n",
      "11\n"
     ]
    }
   ],
   "source": [
    "for i in d:\n",
    "    print(i)"
   ]
  },
  {
   "cell_type": "code",
   "execution_count": 33,
   "id": "6318952a-69da-42ec-b72c-93dd059dda8e",
   "metadata": {},
   "outputs": [],
   "source": [
    "# Question number 5\n",
    "def test1(n):\n",
    "    for i in range(n):\n",
    "        if i%1 == 0 and i%n == 0 :\n",
    "            yield i"
   ]
  },
  {
   "cell_type": "code",
   "execution_count": 36,
   "id": "6bc9e115-c8d6-4288-ae41-2e61149c6d62",
   "metadata": {},
   "outputs": [],
   "source": [
    " d = test1(112)\n",
    "    "
   ]
  },
  {
   "cell_type": "code",
   "execution_count": 38,
   "id": "b5e5b763-0f21-423a-857e-350c0fb1f0a4",
   "metadata": {},
   "outputs": [],
   "source": [
    "for i in d :\n",
    "    print(i)"
   ]
  },
  {
   "cell_type": "code",
   "execution_count": 41,
   "id": "f89f056a-d2db-43c1-aadc-0c2c2cc95412",
   "metadata": {},
   "outputs": [
    {
     "name": "stdin",
     "output_type": "stream",
     "text": [
      "Enter the number 10\n"
     ]
    },
    {
     "name": "stdout",
     "output_type": "stream",
     "text": [
      "0\n",
      "1\n",
      "1\n",
      "2\n",
      "3\n",
      "5\n",
      "8\n",
      "13\n",
      "21\n",
      "34\n"
     ]
    }
   ],
   "source": [
    "# Question number 6\n",
    "n = int(input(\"Enter the number\"))\n",
    "a = 0\n",
    "b = 1\n",
    "d = 0\n",
    "while d < n :\n",
    "    print(a)\n",
    "    c = a + b\n",
    "    a = b\n",
    "    b = c\n",
    "    d = d +1\n",
    "    \n",
    "    "
   ]
  },
  {
   "cell_type": "code",
   "execution_count": 46,
   "id": "49c15c92-4499-410b-8b23-ec2ddc1be38b",
   "metadata": {},
   "outputs": [
    {
     "data": {
      "text/plain": [
       "['p', 'w', 's', 'k', 'i', 'l', 'l', 's']"
      ]
     },
     "execution_count": 46,
     "metadata": {},
     "output_type": "execute_result"
    }
   ],
   "source": [
    "# Question number 7\n",
    "l = \"pwskills\"\n",
    "[i  for i in l]"
   ]
  },
  {
   "cell_type": "code",
   "execution_count": 59,
   "id": "67e2a522-abfc-45cc-a706-bebad32db4cd",
   "metadata": {},
   "outputs": [
    {
     "name": "stdin",
     "output_type": "stream",
     "text": [
      "Enter the number 100\n"
     ]
    },
    {
     "data": {
      "text/plain": [
       "[-1,\n",
       " 1,\n",
       " 3,\n",
       " 5,\n",
       " 7,\n",
       " 9,\n",
       " 11,\n",
       " 13,\n",
       " 15,\n",
       " 17,\n",
       " 19,\n",
       " 21,\n",
       " 23,\n",
       " 25,\n",
       " 27,\n",
       " 29,\n",
       " 31,\n",
       " 33,\n",
       " 35,\n",
       " 37,\n",
       " 39,\n",
       " 41,\n",
       " 43,\n",
       " 45,\n",
       " 47,\n",
       " 49,\n",
       " 51,\n",
       " 53,\n",
       " 55,\n",
       " 57,\n",
       " 59,\n",
       " 61,\n",
       " 63,\n",
       " 65,\n",
       " 67,\n",
       " 69,\n",
       " 71,\n",
       " 73,\n",
       " 75,\n",
       " 77,\n",
       " 79,\n",
       " 81,\n",
       " 83,\n",
       " 85,\n",
       " 87,\n",
       " 89,\n",
       " 91,\n",
       " 93,\n",
       " 95,\n",
       " 97]"
      ]
     },
     "execution_count": 59,
     "metadata": {},
     "output_type": "execute_result"
    }
   ],
   "source": [
    "# Question number 9\n",
    "n = int(input(\"Enter the number\"))\n",
    "[(i - 1)  for i in range(n) if i%2 == 0]"
   ]
  },
  {
   "cell_type": "code",
   "execution_count": null,
   "id": "2ca4f4c5-aee1-419f-8000-e15d0e6bacb8",
   "metadata": {},
   "outputs": [],
   "source": [
    "# Question number 8\n"
   ]
  }
 ],
 "metadata": {
  "kernelspec": {
   "display_name": "Python 3 (ipykernel)",
   "language": "python",
   "name": "python3"
  },
  "language_info": {
   "codemirror_mode": {
    "name": "ipython",
    "version": 3
   },
   "file_extension": ".py",
   "mimetype": "text/x-python",
   "name": "python",
   "nbconvert_exporter": "python",
   "pygments_lexer": "ipython3",
   "version": "3.10.8"
  }
 },
 "nbformat": 4,
 "nbformat_minor": 5
}
